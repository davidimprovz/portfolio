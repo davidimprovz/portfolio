{
 "cells": [
  {
   "cell_type": "code",
   "execution_count": 2,
   "metadata": {},
   "outputs": [],
   "source": [
    "from IPython.display import IFrame"
   ]
  },
  {
   "cell_type": "markdown",
   "metadata": {},
   "source": [
    "***\n",
    "\n",
    "<h1 style=\"text-align: center\">How I Got Here</h1>\n",
    "\n",
    "***"
   ]
  },
  {
   "cell_type": "markdown",
   "metadata": {},
   "source": [
    "### Web & Software: 2004-13"
   ]
  },
  {
   "cell_type": "markdown",
   "metadata": {},
   "source": [
    "<img src=\"bmw_presentation_2018_start.png\" style=\"float: left;\" width=\"900px\">"
   ]
  },
  {
   "cell_type": "code",
   "execution_count": 3,
   "metadata": {
    "collapsed": true
   },
   "outputs": [
    {
     "data": {
      "text/html": [
       "\n",
       "        <iframe\n",
       "            width=\"950px\"\n",
       "            height=\"450px\"\n",
       "            src=\"http://hdcc.com\"\n",
       "            frameborder=\"0\"\n",
       "            allowfullscreen\n",
       "        ></iframe>\n",
       "        "
      ],
      "text/plain": [
       "<IPython.lib.display.IFrame at 0x7f87c05966a0>"
      ]
     },
     "execution_count": 3,
     "metadata": {},
     "output_type": "execute_result"
    }
   ],
   "source": [
    "IFrame('http://hdcc.com', width=\"950px\", height=\"450px\")"
   ]
  },
  {
   "cell_type": "markdown",
   "metadata": {},
   "source": [
    "### Entrepreneurship: 2011-14"
   ]
  },
  {
   "cell_type": "markdown",
   "metadata": {},
   "source": [
    "<p>Learned what it takes to run a business, to create a great product, and to market and sell it</p>"
   ]
  },
  {
   "cell_type": "markdown",
   "metadata": {},
   "source": [
    "<img src=\"bmw_presentation_2018_comfe.png\" width=\"850px\" style=\"float: left;\">"
   ]
  },
  {
   "cell_type": "markdown",
   "metadata": {},
   "source": [
    "### Mastery: 2016"
   ]
  },
  {
   "cell_type": "markdown",
   "metadata": {},
   "source": [
    "<img src=\"https://images-na.ssl-images-amazon.com/images/I/41WoD6VNvSL._SX349_BO1,204,203,200_.jpg\" style=\"float: left;\" width=\"300px\"> <p style=\"float: left; display: block; width: 450px; margin-left: 50px;\">\"The two most important days in your life are the day you are born and the day you find out why.\" <br><br> -Mark Twain</p>"
   ]
  },
  {
   "cell_type": "markdown",
   "metadata": {},
   "source": [
    "***\n",
    "\n",
    "<h1 style=\"text-align: center\">DS Skills Development</h1>\n",
    "\n",
    "***"
   ]
  },
  {
   "cell_type": "markdown",
   "metadata": {},
   "source": [
    "<img src=\"bmw_presentation_2018_dsprogress.png\" width=\"800px\" style=\"float: left;\">"
   ]
  },
  {
   "cell_type": "markdown",
   "metadata": {},
   "source": [
    "### Exploring the PyData Stack"
   ]
  },
  {
   "cell_type": "markdown",
   "metadata": {},
   "source": [
    "* Stock Market Scraping\n",
    "* Data Acquisition, Plotting, Analysis, Machine Learning \n",
    "* NLTK & Network Analysis Intro\n",
    "* GIS analytics w imagery analysis"
   ]
  },
  {
   "cell_type": "markdown",
   "metadata": {},
   "source": [
    "<img src=\"weather_data_exp.jpg\" style=\"float: left;\" width=\"700px\">"
   ]
  },
  {
   "cell_type": "markdown",
   "metadata": {},
   "source": [
    "<img src=\"where_to_work_exp.png\" style=\"float: left;\" width=\"700px\"> "
   ]
  },
  {
   "cell_type": "markdown",
   "metadata": {},
   "source": [
    "<img src=\"stock_tick_counts.jpg\" style=\"float: left;\" width=\"700px\"> "
   ]
  },
  {
   "cell_type": "markdown",
   "metadata": {},
   "source": [
    "<img src=\"tax_due_hawaii.png\" style=\"float: left;\" width=\"700px\">"
   ]
  },
  {
   "cell_type": "markdown",
   "metadata": {},
   "source": [
    "<img src=\"gis_proj_one.png\" style=\"float: left;\" width=\"850px\">"
   ]
  },
  {
   "cell_type": "markdown",
   "metadata": {},
   "source": [
    "***\n",
    "\n",
    "<h1 style=\"text-align: center\">Latest Project: Real Estate App</h1>\n",
    "\n",
    "***"
   ]
  },
  {
   "cell_type": "markdown",
   "metadata": {},
   "source": [
    "### Hawaii and Greenville County Real Estate Markets"
   ]
  },
  {
   "cell_type": "markdown",
   "metadata": {},
   "source": [
    "Decision trees, baseline for market analysis, market visibility"
   ]
  },
  {
   "cell_type": "markdown",
   "metadata": {},
   "source": [
    "**lessons learned**\n",
    "* cleaning and preparing data\n",
    "* code reusability and best practices\n",
    "* ArcGIS API & GeoPandas \n",
    "* memory-efficient practices for data processing"
   ]
  },
  {
   "cell_type": "markdown",
   "metadata": {},
   "source": [
    "**more to do**\n",
    "1. cross validation\n",
    "2. min max scaling & SVC with kernels\n",
    "3. Django app for service delivery\n",
    "4. Test predictions Q1 of 2019"
   ]
  },
  {
   "cell_type": "markdown",
   "metadata": {},
   "source": [
    "***\n",
    "\n",
    "<h1 style=\"text-align: center\">Next Steps</h1>\n",
    "\n",
    "***"
   ]
  },
  {
   "cell_type": "markdown",
   "metadata": {},
   "source": [
    "In our Information Economy\n",
    "\n",
    "* create value through efficiency\n",
    "\n",
    "* create revenue streams using data\n",
    "\n",
    "* automation determines the economic future"
   ]
  },
  {
   "cell_type": "markdown",
   "metadata": {},
   "source": [
    "### \"Dark Data\""
   ]
  },
  {
   "cell_type": "markdown",
   "metadata": {},
   "source": [
    "<img style=\"float: left;\" src=\"Screenshot 2017-05-18 15.02.42.png\" width=\"800px\">"
   ]
  },
  {
   "cell_type": "markdown",
   "metadata": {},
   "source": [
    "### ML Interests"
   ]
  },
  {
   "cell_type": "markdown",
   "metadata": {},
   "source": [
    "* deep learning image processing: NVIDIA Cert, TensorFlow, Yandex Courses\n",
    "* economic analysis and investment modeling: Wharton Courses\n",
    "* meta learners"
   ]
  },
  {
   "cell_type": "markdown",
   "metadata": {},
   "source": [
    "### Programming interests"
   ]
  },
  {
   "cell_type": "markdown",
   "metadata": {},
   "source": [
    "* Cars and Drones as a distributed sensor network for data services and products\n",
    "* Automation of dynamical systems: U Penn Courses\n",
    "* Web GIS mapping and data services\n",
    "* Blockchain transaction systems for location-enabled services: Eth and EOS\n",
    "* Python acceleration, C++"
   ]
  },
  {
   "cell_type": "markdown",
   "metadata": {},
   "source": [
    "***\n",
    "\n",
    "<h1 style=\"text-align: center\">Thank You!</h1>\n",
    "\n",
    "***"
   ]
  }
 ],
 "metadata": {
  "kernelspec": {
   "display_name": "Python 3",
   "language": "python",
   "name": "python3"
  },
  "language_info": {
   "codemirror_mode": {
    "name": "ipython",
    "version": 3
   },
   "file_extension": ".py",
   "mimetype": "text/x-python",
   "name": "python",
   "nbconvert_exporter": "python",
   "pygments_lexer": "ipython3",
   "version": "3.6.6"
  }
 },
 "nbformat": 4,
 "nbformat_minor": 2
}
